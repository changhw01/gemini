{
 "cells": [
  {
   "cell_type": "code",
   "execution_count": 52,
   "metadata": {},
   "outputs": [],
   "source": [
    "import copy\n",
    "import os\n",
    "\n",
    "from matplotlib import pyplot as plt\n",
    "import matplotlib.ticker as ticker\n",
    "import matplotlib.dates as mdates\n",
    "\n",
    "import numpy as np\n",
    "import pandas as pd\n",
    "\n",
    "from tslib.src import tsUtils\n",
    "from tslib.src.synthcontrol.syntheticControl import RobustSyntheticControl"
   ]
  },
  {
   "cell_type": "code",
   "execution_count": 53,
   "metadata": {},
   "outputs": [
    {
     "data": {
      "text/html": [
       "<div>\n",
       "<style scoped>\n",
       "    .dataframe tbody tr th:only-of-type {\n",
       "        vertical-align: middle;\n",
       "    }\n",
       "\n",
       "    .dataframe tbody tr th {\n",
       "        vertical-align: top;\n",
       "    }\n",
       "\n",
       "    .dataframe thead th {\n",
       "        text-align: right;\n",
       "    }\n",
       "</style>\n",
       "<table border=\"1\" class=\"dataframe\">\n",
       "  <thead>\n",
       "    <tr style=\"text-align: right;\">\n",
       "      <th></th>\n",
       "      <th>Cancer Type</th>\n",
       "      <th>1</th>\n",
       "      <th>2</th>\n",
       "      <th>3</th>\n",
       "      <th>4</th>\n",
       "      <th>5</th>\n",
       "      <th>6</th>\n",
       "      <th>7</th>\n",
       "      <th>8</th>\n",
       "      <th>9</th>\n",
       "      <th>10</th>\n",
       "      <th>11</th>\n",
       "      <th>12</th>\n",
       "    </tr>\n",
       "  </thead>\n",
       "  <tbody>\n",
       "    <tr>\n",
       "      <th>0</th>\n",
       "      <td>Bladder Cancer</td>\n",
       "      <td>1.000000</td>\n",
       "      <td>0.956522</td>\n",
       "      <td>0.913043</td>\n",
       "      <td>0.869565</td>\n",
       "      <td>0.826087</td>\n",
       "      <td>0.826087</td>\n",
       "      <td>0.777494</td>\n",
       "      <td>0.673828</td>\n",
       "      <td>0.673828</td>\n",
       "      <td>0.617675</td>\n",
       "      <td>0.561523</td>\n",
       "      <td>0.505371</td>\n",
       "    </tr>\n",
       "    <tr>\n",
       "      <th>1</th>\n",
       "      <td>Esophagogastric Cancer</td>\n",
       "      <td>1.000000</td>\n",
       "      <td>0.903226</td>\n",
       "      <td>0.799007</td>\n",
       "      <td>0.799007</td>\n",
       "      <td>0.754618</td>\n",
       "      <td>0.754618</td>\n",
       "      <td>0.704310</td>\n",
       "      <td>0.704310</td>\n",
       "      <td>0.645618</td>\n",
       "      <td>0.586925</td>\n",
       "      <td>0.586925</td>\n",
       "      <td>0.503079</td>\n",
       "    </tr>\n",
       "    <tr>\n",
       "      <th>2</th>\n",
       "      <td>Melanoma</td>\n",
       "      <td>0.991304</td>\n",
       "      <td>0.939130</td>\n",
       "      <td>0.904348</td>\n",
       "      <td>0.895652</td>\n",
       "      <td>0.869309</td>\n",
       "      <td>0.860529</td>\n",
       "      <td>0.851748</td>\n",
       "      <td>0.834186</td>\n",
       "      <td>0.825312</td>\n",
       "      <td>0.816437</td>\n",
       "      <td>0.807563</td>\n",
       "      <td>0.780940</td>\n",
       "    </tr>\n",
       "    <tr>\n",
       "      <th>3</th>\n",
       "      <td>Non-Small Cell Lung Cancer</td>\n",
       "      <td>1.000000</td>\n",
       "      <td>0.952381</td>\n",
       "      <td>0.809524</td>\n",
       "      <td>0.761905</td>\n",
       "      <td>0.761905</td>\n",
       "      <td>0.761905</td>\n",
       "      <td>0.761905</td>\n",
       "      <td>0.703297</td>\n",
       "      <td>0.644689</td>\n",
       "      <td>0.586081</td>\n",
       "      <td>0.586081</td>\n",
       "      <td>0.586081</td>\n",
       "    </tr>\n",
       "  </tbody>\n",
       "</table>\n",
       "</div>"
      ],
      "text/plain": [
       "                  Cancer Type         1         2         3         4  \\\n",
       "0              Bladder Cancer  1.000000  0.956522  0.913043  0.869565   \n",
       "1      Esophagogastric Cancer  1.000000  0.903226  0.799007  0.799007   \n",
       "2                    Melanoma  0.991304  0.939130  0.904348  0.895652   \n",
       "3  Non-Small Cell Lung Cancer  1.000000  0.952381  0.809524  0.761905   \n",
       "\n",
       "          5         6         7         8         9        10        11  \\\n",
       "0  0.826087  0.826087  0.777494  0.673828  0.673828  0.617675  0.561523   \n",
       "1  0.754618  0.754618  0.704310  0.704310  0.645618  0.586925  0.586925   \n",
       "2  0.869309  0.860529  0.851748  0.834186  0.825312  0.816437  0.807563   \n",
       "3  0.761905  0.761905  0.761905  0.703297  0.644689  0.586081  0.586081   \n",
       "\n",
       "         12  \n",
       "0  0.505371  \n",
       "1  0.503079  \n",
       "2  0.780940  \n",
       "3  0.586081  "
      ]
     },
     "execution_count": 53,
     "metadata": {},
     "output_type": "execute_result"
    }
   ],
   "source": [
    "ts_pd1_df = pd.read_csv('data/km__df.csv')\n",
    "ts_pd1_df.head(4)"
   ]
  },
  {
   "cell_type": "code",
   "execution_count": 54,
   "metadata": {},
   "outputs": [],
   "source": [
    "def predict_and_plot(ts_pd1_df, target_type, moStart=1, moTrainEnd=6, moTestEnd=12, singvals=2):\n",
    "    other_types = list(ts_pd1_df['Cancer Type'])\n",
    "    other_types.remove(target_type)\n",
    "    months = [str(i) for i in range(moStart, moTestEnd + 1)]\n",
    "    p = 1.0\n",
    "\n",
    "    trainingMonths = [str(i) for i in range(moStart, moTrainEnd + 1)]\n",
    "    testMonths = [str(i) for i in range(moTrainEnd + 1, moTestEnd + 1)]\n",
    "\n",
    "    trainDataMasterDict = {}\n",
    "    trainDataDict = {}\n",
    "    testDataDict = {}\n",
    "    for key in other_types:\n",
    "      series = ts_pd1_df.loc[ts_pd1_df['Cancer Type'] == key]\n",
    "      trainDataMasterDict.update({key: series[trainingMonths].values[0]})\n",
    "      # randomly hide training data\n",
    "      (trainData, pObservation) = tsUtils.randomlyHideValues(copy.deepcopy(trainDataMasterDict[key]), p)\n",
    "      trainDataDict.update({key: trainData})\n",
    "      testDataDict.update({key: series[testMonths].values[0]})\n",
    "        \n",
    "    series = ts_pd1_df[ts_pd1_df['Cancer Type'] == target_type]\n",
    "    trainDataMasterDict.update({target_type: series[trainingMonths].values[0]})\n",
    "    trainDataDict.update({target_type: series[trainingMonths].values[0]})\n",
    "    testDataDict.update({target_type: series[testMonths].values[0]})\n",
    "\n",
    "    trainMasterDF = pd.DataFrame(data=trainDataMasterDict)\n",
    "    trainDF = pd.DataFrame(data=trainDataDict)\n",
    "    testDF = pd.DataFrame(data=testDataDict)    \n",
    "    \n",
    "    rscModel = RobustSyntheticControl(\n",
    "        target_type, singvals, len(trainDF), probObservation=1.0, modelType='svd',\n",
    "        svdMethod='numpy', otherSeriesKeysArray=other_types)\n",
    "    rscModel.fit(trainDF)\n",
    "    denoisedDF = rscModel.model.denoisedDF()\n",
    "    \n",
    "    predictions = []\n",
    "    predictions = np.dot(testDF[other_types], rscModel.model.weights)\n",
    "    actual = ts_pd1_df.loc[ts_pd1_df['Cancer Type'] == target_type][months]\n",
    "    actual = actual.iloc[0]\n",
    "    model_fit = np.dot(trainDF[other_types][:], rscModel.model.weights)   \n",
    "    \n",
    "    fig, ax = plt.subplots(1,1)\n",
    "    tick_spacing = 5\n",
    "    # this is a bug in matplotlib\n",
    "    label_markings = np.insert(months[::tick_spacing], 0, 'dummy')\n",
    "\n",
    "    ax.set_xticks(np.arange(len(label_markings)))\n",
    "    ax.set_xticklabels(label_markings, rotation=45)\n",
    "    ax.xaxis.set_major_locator(ticker.MultipleLocator(tick_spacing))\n",
    "\n",
    "    plt.plot(months, actual ,label='actual')\n",
    "    plt.xlabel('Months after treatment')\n",
    "    plt.ylabel('Survival rate')\n",
    "    plt.plot(trainingMonths, model_fit, label='fitted model')\n",
    "    plt.plot(testMonths, predictions, label='counterfactual')\n",
    "    plt.title(target_type+', Singular Values used: '+str(singvals))\n",
    "\n",
    "    xposition = pd.to_datetime(moTrainEnd,  errors='coerce')\n",
    "    plt.axvline(x=str(moTrainEnd), color='k', linestyle='--', linewidth=4)\n",
    "    plt.grid()\n",
    "    plt.legend()"
   ]
  },
  {
   "cell_type": "code",
   "execution_count": 55,
   "metadata": {},
   "outputs": [
    {
     "data": {
      "image/png": "[encoded data removed]",
      "text/plain": [
       "<Figure size 432x288 with 1 Axes>"
      ]
     },
     "metadata": {
      "needs_background": "light"
     },
     "output_type": "display_data"
    }
   ],
   "source": [
    "predict_and_plot(ts_pd1_df, 'Non-Small Cell Lung Cancer', singvals=2)"
   ]
  },
  {
   "cell_type": "code",
   "execution_count": 56,
   "metadata": {},
   "outputs": [
    {
     "data": {
      "image/png": "[encoded data removed]",
      "text/plain": [
       "<Figure size 432x288 with 1 Axes>"
      ]
     },
     "metadata": {
      "needs_background": "light"
     },
     "output_type": "display_data"
    }
   ],
   "source": [
    "predict_and_plot(ts_pd1_df, 'Melanoma', singvals=2)"
   ]
  },
  {
   "cell_type": "code",
   "execution_count": 57,
   "metadata": {},
   "outputs": [
    {
     "ename": "ValueError",
     "evalue": "list.remove(x): x not in list",
     "output_type": "error",
     "traceback": [
      "\u001b[0;31m---------------------------------------------------------------------------\u001b[0m",
      "\u001b[0;31mValueError\u001b[0m                                Traceback (most recent call last)",
      "\u001b[0;32m<ipython-input-57-acdcb5032677>\u001b[0m in \u001b[0;36m<module>\u001b[0;34m()\u001b[0m\n\u001b[0;32m----> 1\u001b[0;31m \u001b[0mpredict_and_plot\u001b[0m\u001b[0;34m(\u001b[0m\u001b[0mts_pd1_df\u001b[0m\u001b[0;34m,\u001b[0m \u001b[0;34m'Colorectal Cancer'\u001b[0m\u001b[0;34m,\u001b[0m \u001b[0msingvals\u001b[0m\u001b[0;34m=\u001b[0m\u001b[0;36m2\u001b[0m\u001b[0;34m)\u001b[0m\u001b[0;34m\u001b[0m\u001b[0m\n\u001b[0m",
      "\u001b[0;32m<ipython-input-54-44ec5cb69509>\u001b[0m in \u001b[0;36mpredict_and_plot\u001b[0;34m(ts_pd1_df, target_type, moStart, moTrainEnd, moTestEnd, singvals)\u001b[0m\n\u001b[1;32m      1\u001b[0m \u001b[0;32mdef\u001b[0m \u001b[0mpredict_and_plot\u001b[0m\u001b[0;34m(\u001b[0m\u001b[0mts_pd1_df\u001b[0m\u001b[0;34m,\u001b[0m \u001b[0mtarget_type\u001b[0m\u001b[0;34m,\u001b[0m \u001b[0mmoStart\u001b[0m\u001b[0;34m=\u001b[0m\u001b[0;36m1\u001b[0m\u001b[0;34m,\u001b[0m \u001b[0mmoTrainEnd\u001b[0m\u001b[0;34m=\u001b[0m\u001b[0;36m6\u001b[0m\u001b[0;34m,\u001b[0m \u001b[0mmoTestEnd\u001b[0m\u001b[0;34m=\u001b[0m\u001b[0;36m12\u001b[0m\u001b[0;34m,\u001b[0m \u001b[0msingvals\u001b[0m\u001b[0;34m=\u001b[0m\u001b[0;36m2\u001b[0m\u001b[0;34m)\u001b[0m\u001b[0;34m:\u001b[0m\u001b[0;34m\u001b[0m\u001b[0m\n\u001b[1;32m      2\u001b[0m     \u001b[0mother_types\u001b[0m \u001b[0;34m=\u001b[0m \u001b[0mlist\u001b[0m\u001b[0;34m(\u001b[0m\u001b[0mts_pd1_df\u001b[0m\u001b[0;34m[\u001b[0m\u001b[0;34m'Cancer Type'\u001b[0m\u001b[0;34m]\u001b[0m\u001b[0;34m)\u001b[0m\u001b[0;34m\u001b[0m\u001b[0m\n\u001b[0;32m----> 3\u001b[0;31m     \u001b[0mother_types\u001b[0m\u001b[0;34m.\u001b[0m\u001b[0mremove\u001b[0m\u001b[0;34m(\u001b[0m\u001b[0mtarget_type\u001b[0m\u001b[0;34m)\u001b[0m\u001b[0;34m\u001b[0m\u001b[0m\n\u001b[0m\u001b[1;32m      4\u001b[0m     \u001b[0mmonths\u001b[0m \u001b[0;34m=\u001b[0m \u001b[0;34m[\u001b[0m\u001b[0mstr\u001b[0m\u001b[0;34m(\u001b[0m\u001b[0mi\u001b[0m\u001b[0;34m)\u001b[0m \u001b[0;32mfor\u001b[0m \u001b[0mi\u001b[0m \u001b[0;32min\u001b[0m \u001b[0mrange\u001b[0m\u001b[0;34m(\u001b[0m\u001b[0mmoStart\u001b[0m\u001b[0;34m,\u001b[0m \u001b[0mmoTestEnd\u001b[0m \u001b[0;34m+\u001b[0m \u001b[0;36m1\u001b[0m\u001b[0;34m)\u001b[0m\u001b[0;34m]\u001b[0m\u001b[0;34m\u001b[0m\u001b[0m\n\u001b[1;32m      5\u001b[0m     \u001b[0mp\u001b[0m \u001b[0;34m=\u001b[0m \u001b[0;36m1.0\u001b[0m\u001b[0;34m\u001b[0m\u001b[0m\n",
      "\u001b[0;31mValueError\u001b[0m: list.remove(x): x not in list"
     ]
    }
   ],
   "source": [
    "predict_and_plot(ts_pd1_df, 'Colorectal Cancer', singvals=2)"
   ]
  },
  {
   "cell_type": "code",
   "execution_count": null,
   "metadata": {},
   "outputs": [],
   "source": [
    "predict_and_plot(ts_pd1_df, 'Bladder Cancer', singvals=2)"
   ]
  },
  {
   "cell_type": "code",
   "execution_count": null,
   "metadata": {},
   "outputs": [],
   "source": [
    "predict_and_plot(ts_pd1_df, 'Glioma', singvals=2)"
   ]
  }
 ],
 "metadata": {
  "environment": {
   "name": "common-cpu.m59",
   "type": "gcloud",
   "uri": "gcr.io/deeplearning-platform-release/base-cpu:m59"
  },
  "kernelspec": {
   "display_name": "Python 2",
   "language": "python",
   "name": "python2"
  },
  "language_info": {
   "codemirror_mode": {
    "name": "ipython",
    "version": 2
   },
   "file_extension": ".py",
   "mimetype": "text/x-python",
   "name": "python",
   "nbconvert_exporter": "python",
   "pygments_lexer": "ipython2",
   "version": "2.7.16"
  }
 },
 "nbformat": 4,
 "nbformat_minor": 4
}

{
 "cells": [
  {
   "cell_type": "code",
   "execution_count": 158,
   "metadata": {},
   "outputs": [],
   "source": [
    "import os\n",
    "\n",
    "from matplotlib import pyplot as plt\n",
    "import numpy as np\n",
    "import pandas as pd"
   ]
  },
  {
   "cell_type": "markdown",
   "metadata": {},
   "source": [
    "## Load Raw Data"
   ]
  },
  {
   "cell_type": "code",
   "execution_count": 159,
   "metadata": {},
   "outputs": [],
   "source": [
    "folder_data = 'gemini/data/'\n",
    "fn_data = 'tmb_mskcc_2018_clinical_data.tsv'\n",
    "fp_data = os.path.join(folder_data, fn_data)"
   ]
  },
  {
   "cell_type": "code",
   "execution_count": 160,
   "metadata": {},
   "outputs": [
    {
     "name": "stdout",
     "output_type": "stream",
     "text": [
      "Number of records: 1661\n"
     ]
    },
    {
     "data": {
      "text/html": [
       "<div>\n",
       "<style scoped>\n",
       "    .dataframe tbody tr th:only-of-type {\n",
       "        vertical-align: middle;\n",
       "    }\n",
       "\n",
       "    .dataframe tbody tr th {\n",
       "        vertical-align: top;\n",
       "    }\n",
       "\n",
       "    .dataframe thead th {\n",
       "        text-align: right;\n",
       "    }\n",
       "</style>\n",
       "<table border=\"1\" class=\"dataframe\">\n",
       "  <thead>\n",
       "    <tr style=\"text-align: right;\">\n",
       "      <th></th>\n",
       "      <th>Study ID</th>\n",
       "      <th>Sample ID</th>\n",
       "      <th>Age at Which Sequencing was Reported (Days)</th>\n",
       "      <th>Age Group at Diagnosis in Years</th>\n",
       "      <th>Cancer Type</th>\n",
       "      <th>Cancer Type Detailed</th>\n",
       "      <th>Drug Type</th>\n",
       "      <th>Gene Panel</th>\n",
       "      <th>Institute Source</th>\n",
       "      <th>Metastatic Site</th>\n",
       "      <th>...</th>\n",
       "      <th>Overall Survival Status</th>\n",
       "      <th>Primary Tumor Site</th>\n",
       "      <th>Sample Class</th>\n",
       "      <th>Number of Samples Per Patient</th>\n",
       "      <th>Sample coverage</th>\n",
       "      <th>Sample Type</th>\n",
       "      <th>Sex</th>\n",
       "      <th>Somatic Status</th>\n",
       "      <th>TMB Score</th>\n",
       "      <th>Tumor Purity</th>\n",
       "    </tr>\n",
       "    <tr>\n",
       "      <th>Patient ID</th>\n",
       "      <th></th>\n",
       "      <th></th>\n",
       "      <th></th>\n",
       "      <th></th>\n",
       "      <th></th>\n",
       "      <th></th>\n",
       "      <th></th>\n",
       "      <th></th>\n",
       "      <th></th>\n",
       "      <th></th>\n",
       "      <th></th>\n",
       "      <th></th>\n",
       "      <th></th>\n",
       "      <th></th>\n",
       "      <th></th>\n",
       "      <th></th>\n",
       "      <th></th>\n",
       "      <th></th>\n",
       "      <th></th>\n",
       "      <th></th>\n",
       "      <th></th>\n",
       "    </tr>\n",
       "  </thead>\n",
       "  <tbody>\n",
       "    <tr>\n",
       "      <th>P-0000057</th>\n",
       "      <td>tmb_mskcc_2018</td>\n",
       "      <td>P-0000057-T01-IM3</td>\n",
       "      <td>41.0</td>\n",
       "      <td>31-50</td>\n",
       "      <td>Breast Cancer</td>\n",
       "      <td>Breast Mixed Ductal and Lobular Carcinoma</td>\n",
       "      <td>PD-1/PDL-1</td>\n",
       "      <td>IMPACT341</td>\n",
       "      <td>MSKCC</td>\n",
       "      <td>NaN</td>\n",
       "      <td>...</td>\n",
       "      <td>1:DECEASED</td>\n",
       "      <td>Breast</td>\n",
       "      <td>Tumor</td>\n",
       "      <td>1</td>\n",
       "      <td>835</td>\n",
       "      <td>Primary</td>\n",
       "      <td>Female</td>\n",
       "      <td>Matched</td>\n",
       "      <td>5.580000</td>\n",
       "      <td>25</td>\n",
       "    </tr>\n",
       "    <tr>\n",
       "      <th>P-0000062</th>\n",
       "      <td>tmb_mskcc_2018</td>\n",
       "      <td>P-0000062-T01-IM3</td>\n",
       "      <td>80.0</td>\n",
       "      <td>&gt;71</td>\n",
       "      <td>Esophagogastric Cancer</td>\n",
       "      <td>Adenocarcinoma of the Gastroesophageal Junction</td>\n",
       "      <td>PD-1/PDL-1</td>\n",
       "      <td>IMPACT341</td>\n",
       "      <td>MSKCC</td>\n",
       "      <td>NaN</td>\n",
       "      <td>...</td>\n",
       "      <td>1:DECEASED</td>\n",
       "      <td>Esophagus</td>\n",
       "      <td>Tumor</td>\n",
       "      <td>1</td>\n",
       "      <td>1176</td>\n",
       "      <td>Primary</td>\n",
       "      <td>Male</td>\n",
       "      <td>Matched</td>\n",
       "      <td>6.691462</td>\n",
       "      <td>30</td>\n",
       "    </tr>\n",
       "    <tr>\n",
       "      <th>P-0000063</th>\n",
       "      <td>tmb_mskcc_2018</td>\n",
       "      <td>P-0000063-T01-IM3</td>\n",
       "      <td>62.0</td>\n",
       "      <td>61-70</td>\n",
       "      <td>Bladder Cancer</td>\n",
       "      <td>Bladder Urothelial Carcinoma</td>\n",
       "      <td>PD-1/PDL-1</td>\n",
       "      <td>IMPACT341</td>\n",
       "      <td>MSKCC</td>\n",
       "      <td>NaN</td>\n",
       "      <td>...</td>\n",
       "      <td>0:LIVING</td>\n",
       "      <td>Bladder</td>\n",
       "      <td>Tumor</td>\n",
       "      <td>1</td>\n",
       "      <td>900</td>\n",
       "      <td>Primary</td>\n",
       "      <td>Male</td>\n",
       "      <td>Matched</td>\n",
       "      <td>16.728656</td>\n",
       "      <td>70</td>\n",
       "    </tr>\n",
       "    <tr>\n",
       "      <th>P-0000071</th>\n",
       "      <td>tmb_mskcc_2018</td>\n",
       "      <td>P-0000071-T01-IM3</td>\n",
       "      <td>66.0</td>\n",
       "      <td>61-70</td>\n",
       "      <td>Bladder Cancer</td>\n",
       "      <td>Bladder Urothelial Carcinoma</td>\n",
       "      <td>PD-1/PDL-1</td>\n",
       "      <td>IMPACT341</td>\n",
       "      <td>MSKCC</td>\n",
       "      <td>NaN</td>\n",
       "      <td>...</td>\n",
       "      <td>0:LIVING</td>\n",
       "      <td>Bladder</td>\n",
       "      <td>Tumor</td>\n",
       "      <td>1</td>\n",
       "      <td>795</td>\n",
       "      <td>Primary</td>\n",
       "      <td>Male</td>\n",
       "      <td>Matched</td>\n",
       "      <td>11.152437</td>\n",
       "      <td>30</td>\n",
       "    </tr>\n",
       "  </tbody>\n",
       "</table>\n",
       "<p>4 rows × 23 columns</p>\n",
       "</div>"
      ],
      "text/plain": [
       "                  Study ID          Sample ID  \\\n",
       "Patient ID                                      \n",
       "P-0000057   tmb_mskcc_2018  P-0000057-T01-IM3   \n",
       "P-0000062   tmb_mskcc_2018  P-0000062-T01-IM3   \n",
       "P-0000063   tmb_mskcc_2018  P-0000063-T01-IM3   \n",
       "P-0000071   tmb_mskcc_2018  P-0000071-T01-IM3   \n",
       "\n",
       "            Age at Which Sequencing was Reported (Days)  \\\n",
       "Patient ID                                                \n",
       "P-0000057                                          41.0   \n",
       "P-0000062                                          80.0   \n",
       "P-0000063                                          62.0   \n",
       "P-0000071                                          66.0   \n",
       "\n",
       "           Age Group at Diagnosis in Years             Cancer Type  \\\n",
       "Patient ID                                                           \n",
       "P-0000057                            31-50           Breast Cancer   \n",
       "P-0000062                              >71  Esophagogastric Cancer   \n",
       "P-0000063                            61-70          Bladder Cancer   \n",
       "P-0000071                            61-70          Bladder Cancer   \n",
       "\n",
       "                                       Cancer Type Detailed   Drug Type  \\\n",
       "Patient ID                                                                \n",
       "P-0000057         Breast Mixed Ductal and Lobular Carcinoma  PD-1/PDL-1   \n",
       "P-0000062   Adenocarcinoma of the Gastroesophageal Junction  PD-1/PDL-1   \n",
       "P-0000063                      Bladder Urothelial Carcinoma  PD-1/PDL-1   \n",
       "P-0000071                      Bladder Urothelial Carcinoma  PD-1/PDL-1   \n",
       "\n",
       "           Gene Panel Institute Source Metastatic Site  ...  \\\n",
       "Patient ID                                              ...   \n",
       "P-0000057   IMPACT341            MSKCC             NaN  ...   \n",
       "P-0000062   IMPACT341            MSKCC             NaN  ...   \n",
       "P-0000063   IMPACT341            MSKCC             NaN  ...   \n",
       "P-0000071   IMPACT341            MSKCC             NaN  ...   \n",
       "\n",
       "            Overall Survival Status Primary Tumor Site  Sample Class  \\\n",
       "Patient ID                                                             \n",
       "P-0000057                1:DECEASED             Breast         Tumor   \n",
       "P-0000062                1:DECEASED          Esophagus         Tumor   \n",
       "P-0000063                  0:LIVING            Bladder         Tumor   \n",
       "P-0000071                  0:LIVING            Bladder         Tumor   \n",
       "\n",
       "           Number of Samples Per Patient Sample coverage Sample Type     Sex  \\\n",
       "Patient ID                                                                     \n",
       "P-0000057                              1             835     Primary  Female   \n",
       "P-0000062                              1            1176     Primary    Male   \n",
       "P-0000063                              1             900     Primary    Male   \n",
       "P-0000071                              1             795     Primary    Male   \n",
       "\n",
       "            Somatic Status  TMB Score Tumor Purity  \n",
       "Patient ID                                          \n",
       "P-0000057          Matched   5.580000           25  \n",
       "P-0000062          Matched   6.691462           30  \n",
       "P-0000063          Matched  16.728656           70  \n",
       "P-0000071          Matched  11.152437           30  \n",
       "\n",
       "[4 rows x 23 columns]"
      ]
     },
     "execution_count": 160,
     "metadata": {},
     "output_type": "execute_result"
    }
   ],
   "source": [
    "raw_data_df = pd.read_csv(fp_data, sep='\\t', index_col=1)\n",
    "print('Number of records:', raw_data_df.shape[0])\n",
    "raw_data_df.head(4)"
   ]
  },
  {
   "cell_type": "markdown",
   "metadata": {},
   "source": [
    "## Constructure the time series dataframe and check matrix rank"
   ]
  },
  {
   "cell_type": "code",
   "execution_count": 161,
   "metadata": {},
   "outputs": [],
   "source": [
    "def construct_ts_matrix(data_df, unit_defined_by=None, filter_by_column=None):\n",
    "    \"\"\"Returns a time series matrix for units.\n",
    "    \n",
    "    Args:\n",
    "      data_df: The input dataframe.\n",
    "      unit_defined_by: A column whose values will be used to group the rows of data_df to form units.\n",
    "        If None, each row will be one unit.\n",
    "      filter_by_column: A dict where the keys are column names and values are column values. If given,\n",
    "        only rows with the matched column values are kept.\n",
    "    \"\"\"\n",
    "    if filter_by_column:\n",
    "      to_keep = None  \n",
    "      for k,v in filter_by_column.items():\n",
    "        if to_keep is None:\n",
    "          to_keep = (data_df[k] == v)\n",
    "        else:\n",
    "          to_keep = (filter_flags & (data_df[k] == v))\n",
    "      data_df = data_df[to_keep]\n",
    "    \n",
    "    # Next, besides survival data, we only keep the column used to define units.\n",
    "    data_df = data_df[[unit_defined_by, KEY_SURVIVAL_MONTH]]\n",
    "    \n",
    "    units = sorted(list(set(data_df[unit_defined_by])))\n",
    "    survival_df = pd.DataFrame(index=units, columns=[KEY_SURVIVAL_MONTH]) \n",
    "    for u in units:\n",
    "      survival_df.at[u, KEY_SURVIVAL_MONTH] = np.mean(\n",
    "          data_df[data_df[unit_defined_by]==u][KEY_SURVIVAL_MONTH])\n",
    "    \n",
    "    max_survival_mo = int(np.floor(np.max(survival_df[KEY_SURVIVAL_MONTH])))\n",
    "    print('max_survival_mo', max_survival_mo)\n",
    "    ts_df = pd.DataFrame(index=values_for_grouping,\n",
    "                         columns=range(max_survival_mo))\n",
    "    for i in units:\n",
    "      survival_month_rounded = int(np.floor(survival_df.at[i, KEY_SURVIVAL_MONTH]))\n",
    "      ts_df.at[i,:] = [1.0]*(survival_month_rounded) + [0]*(max_survival_mo - survival_month_rounded)\n",
    "    return ts_df, survival_df\n",
    "\n",
    "\n",
    "def plot_spectrum(ts_df):\n",
    "  ts_array = ts_df.to_numpy().astype(np.float)\n",
    "  (U, s, Vh) = np.linalg.svd((ts_array) - np.mean(ts_array))\n",
    "  s2 = np.power(s, 2)\n",
    "  spectrum = np.cumsum(s2)/np.sum(s2)\n",
    "\n",
    "  plt.plot(spectrum)\n",
    "  plt.grid()\n",
    "  plt.title(\"Cumulative energy\")\n",
    "  plt.figure()\n",
    "  plt.plot(s2)\n",
    "  plt.grid()\n",
    "  plt.xlabel(\"Ordered Singular Values\") \n",
    "  plt.ylabel(\"Energy\")\n",
    "  plt.title(\"Singular Value Spectrum\")\n",
    "\n",
    "\n",
    "def analyze_ts_matrix_rank(drug_type):\n",
    "  ts_df, survival_df = construct_ts_matrix(\n",
    "      data_df,\n",
    "      unit_defined_by=KEY_CANCER_TYPE,\n",
    "      filter_by_column={KEY_DRUG_TYPE:drug_type})\n",
    "  print(survival_df)\n",
    "  print(ts_df)\n",
    "  plot_spectrum(ts_df)"
   ]
  },
  {
   "cell_type": "code",
   "execution_count": 162,
   "metadata": {},
   "outputs": [
    {
     "data": {
      "text/html": [
       "<div>\n",
       "<style scoped>\n",
       "    .dataframe tbody tr th:only-of-type {\n",
       "        vertical-align: middle;\n",
       "    }\n",
       "\n",
       "    .dataframe tbody tr th {\n",
       "        vertical-align: top;\n",
       "    }\n",
       "\n",
       "    .dataframe thead th {\n",
       "        text-align: right;\n",
       "    }\n",
       "</style>\n",
       "<table border=\"1\" class=\"dataframe\">\n",
       "  <thead>\n",
       "    <tr style=\"text-align: right;\">\n",
       "      <th></th>\n",
       "      <th>Cancer Type</th>\n",
       "      <th>Drug Type</th>\n",
       "      <th>Overall Survival (Months)</th>\n",
       "    </tr>\n",
       "    <tr>\n",
       "      <th>Patient ID</th>\n",
       "      <th></th>\n",
       "      <th></th>\n",
       "      <th></th>\n",
       "    </tr>\n",
       "  </thead>\n",
       "  <tbody>\n",
       "    <tr>\n",
       "      <th>P-0000057</th>\n",
       "      <td>Breast Cancer</td>\n",
       "      <td>PD-1/PDL-1</td>\n",
       "      <td>0</td>\n",
       "    </tr>\n",
       "    <tr>\n",
       "      <th>P-0000062</th>\n",
       "      <td>Esophagogastric Cancer</td>\n",
       "      <td>PD-1/PDL-1</td>\n",
       "      <td>1</td>\n",
       "    </tr>\n",
       "    <tr>\n",
       "      <th>P-0000063</th>\n",
       "      <td>Bladder Cancer</td>\n",
       "      <td>PD-1/PDL-1</td>\n",
       "      <td>42</td>\n",
       "    </tr>\n",
       "    <tr>\n",
       "      <th>P-0000071</th>\n",
       "      <td>Bladder Cancer</td>\n",
       "      <td>PD-1/PDL-1</td>\n",
       "      <td>43</td>\n",
       "    </tr>\n",
       "  </tbody>\n",
       "</table>\n",
       "</div>"
      ],
      "text/plain": [
       "                       Cancer Type   Drug Type  Overall Survival (Months)\n",
       "Patient ID                                                               \n",
       "P-0000057            Breast Cancer  PD-1/PDL-1                          0\n",
       "P-0000062   Esophagogastric Cancer  PD-1/PDL-1                          1\n",
       "P-0000063           Bladder Cancer  PD-1/PDL-1                         42\n",
       "P-0000071           Bladder Cancer  PD-1/PDL-1                         43"
      ]
     },
     "execution_count": 162,
     "metadata": {},
     "output_type": "execute_result"
    }
   ],
   "source": [
    "KEY_SURVIVAL_MONTH = 'Overall Survival (Months)'\n",
    "KEY_CANCER_TYPE = 'Cancer Type'\n",
    "KEY_DRUG_TYPE = 'Drug Type'\n",
    "KEY_PATIENT_ID = 'Patient ID'\n",
    "\n",
    "data_df = raw_data_df[[KEY_CANCER_TYPE, KEY_DRUG_TYPE, KEY_SURVIVAL_MONTH]]\n",
    "data_df.head(4)"
   ]
  },
  {
   "cell_type": "code",
   "execution_count": 163,
   "metadata": {},
   "outputs": [
    {
     "name": "stdout",
     "output_type": "stream",
     "text": [
      "max_survival_mo 22\n",
      "                           Overall Survival (Months)\n",
      "Bladder Cancer                               10.8698\n",
      "Breast Cancer                                    7.4\n",
      "Cancer of Unknown Primary                    6.67105\n",
      "Colorectal Cancer                            11.5859\n",
      "Esophagogastric Cancer                       7.54839\n",
      "Glioma                                       11.6842\n",
      "Head and Neck Cancer                         9.87786\n",
      "Melanoma                                        16.1\n",
      "Non-Small Cell Lung Cancer                   11.6383\n",
      "Renal Cell Carcinoma                         22.3689\n",
      "Skin Cancer, Non-Melanoma                          2\n",
      "                           0  1  2  3  4  5  6  7  8  9   ... 12 13 14 15 16  \\\n",
      "Bladder Cancer              1  1  1  1  1  1  1  1  1  1  ...  0  0  0  0  0   \n",
      "Breast Cancer               1  1  1  1  1  1  1  0  0  0  ...  0  0  0  0  0   \n",
      "Cancer of Unknown Primary   1  1  1  1  1  1  0  0  0  0  ...  0  0  0  0  0   \n",
      "Colorectal Cancer           1  1  1  1  1  1  1  1  1  1  ...  0  0  0  0  0   \n",
      "Esophagogastric Cancer      1  1  1  1  1  1  1  0  0  0  ...  0  0  0  0  0   \n",
      "Glioma                      1  1  1  1  1  1  1  1  1  1  ...  0  0  0  0  0   \n",
      "Head and Neck Cancer        1  1  1  1  1  1  1  1  1  0  ...  0  0  0  0  0   \n",
      "Melanoma                    1  1  1  1  1  1  1  1  1  1  ...  1  1  1  1  0   \n",
      "Non-Small Cell Lung Cancer  1  1  1  1  1  1  1  1  1  1  ...  0  0  0  0  0   \n",
      "Renal Cell Carcinoma        1  1  1  1  1  1  1  1  1  1  ...  1  1  1  1  1   \n",
      "Skin Cancer, Non-Melanoma   1  1  0  0  0  0  0  0  0  0  ...  0  0  0  0  0   \n",
      "\n",
      "                           17 18 19 20 21  \n",
      "Bladder Cancer              0  0  0  0  0  \n",
      "Breast Cancer               0  0  0  0  0  \n",
      "Cancer of Unknown Primary   0  0  0  0  0  \n",
      "Colorectal Cancer           0  0  0  0  0  \n",
      "Esophagogastric Cancer      0  0  0  0  0  \n",
      "Glioma                      0  0  0  0  0  \n",
      "Head and Neck Cancer        0  0  0  0  0  \n",
      "Melanoma                    0  0  0  0  0  \n",
      "Non-Small Cell Lung Cancer  0  0  0  0  0  \n",
      "Renal Cell Carcinoma        1  1  1  1  1  \n",
      "Skin Cancer, Non-Melanoma   0  0  0  0  0  \n",
      "\n",
      "[11 rows x 22 columns]\n"
     ]
    },
    {
     "data": {
      "image/png": "[encoded data removed]",
      "text/plain": [
       "<Figure size 432x288 with 1 Axes>"
      ]
     },
     "metadata": {
      "needs_background": "light"
     },
     "output_type": "display_data"
    },
    {
     "data": {
      "image/png": "[encoded data removed]",
      "text/plain": [
       "<Figure size 432x288 with 1 Axes>"
      ]
     },
     "metadata": {
      "needs_background": "light"
     },
     "output_type": "display_data"
    }
   ],
   "source": [
    "analyze_ts_matrix_rank('PD-1/PDL-1')"
   ]
  },
  {
   "cell_type": "code",
   "execution_count": 164,
   "metadata": {},
   "outputs": [
    {
     "name": "stdout",
     "output_type": "stream",
     "text": [
      "max_survival_mo 33\n",
      "                          Overall Survival (Months)\n",
      "Breast Cancer                                 11.65\n",
      "Cancer of Unknown Primary                         2\n",
      "Colorectal Cancer                                 4\n",
      "Esophagogastric Cancer                           11\n",
      "Melanoma                                    33.7333\n",
      "                          0  1  2  3  4  5  6  7  8  9   ... 23 24 25 26 27  \\\n",
      "Breast Cancer              1  1  1  1  1  1  1  1  1  1  ...  0  0  0  0  0   \n",
      "Cancer of Unknown Primary  1  1  0  0  0  0  0  0  0  0  ...  0  0  0  0  0   \n",
      "Colorectal Cancer          1  1  1  1  0  0  0  0  0  0  ...  0  0  0  0  0   \n",
      "Esophagogastric Cancer     1  1  1  1  1  1  1  1  1  1  ...  0  0  0  0  0   \n",
      "Melanoma                   1  1  1  1  1  1  1  1  1  1  ...  1  1  1  1  1   \n",
      "\n",
      "                          28 29 30 31 32  \n",
      "Breast Cancer              0  0  0  0  0  \n",
      "Cancer of Unknown Primary  0  0  0  0  0  \n",
      "Colorectal Cancer          0  0  0  0  0  \n",
      "Esophagogastric Cancer     0  0  0  0  0  \n",
      "Melanoma                   1  1  1  1  1  \n",
      "\n",
      "[5 rows x 33 columns]\n"
     ]
    },
    {
     "data": {
      "image/png": "[encoded data removed]",
      "text/plain": [
       "<Figure size 432x288 with 1 Axes>"
      ]
     },
     "metadata": {
      "needs_background": "light"
     },
     "output_type": "display_data"
    },
    {
     "data": {
      "image/png": "[encoded data removed]",
      "text/plain": [
       "<Figure size 432x288 with 1 Axes>"
      ]
     },
     "metadata": {
      "needs_background": "light"
     },
     "output_type": "display_data"
    }
   ],
   "source": [
    "analyze_ts_matrix_rank('CTLA4')"
   ]
  },
  {
   "cell_type": "code",
   "execution_count": 165,
   "metadata": {},
   "outputs": [
    {
     "name": "stdout",
     "output_type": "stream",
     "text": [
      "max_survival_mo 29\n",
      "                           Overall Survival (Months)\n",
      "Bladder Cancer                               16.8261\n",
      "Breast Cancer                                     10\n",
      "Cancer of Unknown Primary                    5.90909\n",
      "Colorectal Cancer                                6.9\n",
      "Esophagogastric Cancer                       7.29032\n",
      "Glioma                                            18\n",
      "Head and Neck Cancer                          10.125\n",
      "Melanoma                                     20.5565\n",
      "Non-Small Cell Lung Cancer                   27.8571\n",
      "Renal Cell Carcinoma                         29.3793\n",
      "                           0  1  2  3  4  5  6  7  8  9   ... 19 20 21 22 23  \\\n",
      "Bladder Cancer              1  1  1  1  1  1  1  1  1  1  ...  0  0  0  0  0   \n",
      "Breast Cancer               1  1  1  1  1  1  1  1  1  1  ...  0  0  0  0  0   \n",
      "Cancer of Unknown Primary   1  1  1  1  1  0  0  0  0  0  ...  0  0  0  0  0   \n",
      "Colorectal Cancer           1  1  1  1  1  1  0  0  0  0  ...  0  0  0  0  0   \n",
      "Esophagogastric Cancer      1  1  1  1  1  1  1  0  0  0  ...  0  0  0  0  0   \n",
      "Glioma                      1  1  1  1  1  1  1  1  1  1  ...  0  0  0  0  0   \n",
      "Head and Neck Cancer        1  1  1  1  1  1  1  1  1  1  ...  0  0  0  0  0   \n",
      "Melanoma                    1  1  1  1  1  1  1  1  1  1  ...  1  0  0  0  0   \n",
      "Non-Small Cell Lung Cancer  1  1  1  1  1  1  1  1  1  1  ...  1  1  1  1  1   \n",
      "Renal Cell Carcinoma        1  1  1  1  1  1  1  1  1  1  ...  1  1  1  1  1   \n",
      "\n",
      "                           24 25 26 27 28  \n",
      "Bladder Cancer              0  0  0  0  0  \n",
      "Breast Cancer               0  0  0  0  0  \n",
      "Cancer of Unknown Primary   0  0  0  0  0  \n",
      "Colorectal Cancer           0  0  0  0  0  \n",
      "Esophagogastric Cancer      0  0  0  0  0  \n",
      "Glioma                      0  0  0  0  0  \n",
      "Head and Neck Cancer        0  0  0  0  0  \n",
      "Melanoma                    0  0  0  0  0  \n",
      "Non-Small Cell Lung Cancer  1  1  1  0  0  \n",
      "Renal Cell Carcinoma        1  1  1  1  1  \n",
      "\n",
      "[10 rows x 29 columns]\n"
     ]
    },
    {
     "data": {
      "image/png": "[encoded data removed]",
      "text/plain": [
       "<Figure size 432x288 with 1 Axes>"
      ]
     },
     "metadata": {
      "needs_background": "light"
     },
     "output_type": "display_data"
    },
    {
     "data": {
      "image/png": "[encoded data removed]",
      "text/plain": [
       "<Figure size 432x288 with 1 Axes>"
      ]
     },
     "metadata": {
      "needs_background": "light"
     },
     "output_type": "display_data"
    }
   ],
   "source": [
    "analyze_ts_matrix_rank('Combo')"
   ]
  }
 ],
 "metadata": {
  "environment": {
   "name": "common-cpu.m59",
   "type": "gcloud",
   "uri": "gcr.io/deeplearning-platform-release/base-cpu:m59"
  },
  "kernelspec": {
   "display_name": "Python 3",
   "language": "python",
   "name": "python3"
  },
  "language_info": {
   "codemirror_mode": {
    "name": "ipython",
    "version": 3
   },
   "file_extension": ".py",
   "mimetype": "text/x-python",
   "name": "python",
   "nbconvert_exporter": "python",
   "pygments_lexer": "ipython3",
   "version": "3.7.8"
  }
 },
 "nbformat": 4,
 "nbformat_minor": 4
}
